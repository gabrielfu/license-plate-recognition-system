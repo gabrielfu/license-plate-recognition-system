{
 "cells": [
  {
   "cell_type": "code",
   "execution_count": 1,
   "metadata": {},
   "outputs": [],
   "source": [
    "import pycuda.autoinit\n",
    "import time\n",
    "import cv2\n",
    "import matplotlib.pyplot as plt\n",
    "import glob\n",
    "from tqdm import tqdm_notebook as tqdm\n",
    "\n",
    "\n",
    "from utils import read_yaml\n",
    "from lpr_api import PlateDetectorTRT\n",
    "from lpr_api import SegmentatorTRT\n",
    "from lpr_api import CharRecognizerTRT\n",
    "from lpr_api import CharRecognizer"
   ]
  },
  {
   "cell_type": "markdown",
   "metadata": {},
   "source": [
    "# Load models"
   ]
  },
  {
   "cell_type": "code",
   "execution_count": 11,
   "metadata": {},
   "outputs": [],
   "source": [
    "models_cfg = read_yaml('config/models.yaml')\n",
    "recognizer = CharRecognizerTRT(models_cfg['char_recognizer_trt'])\n",
    "detector = PlateDetectorTRT(models_cfg['plate_detector_trt'])\n",
    "segmentator = SegmentatorTRT(models_cfg['segmentator_trt'])\n",
    "\n",
    "# How much to pad in detected plates before segmenting (0~1)\n",
    "pad_x = models_cfg['lpr']['pad_x']\n",
    "pad_y = models_cfg['lpr']['pad_y']"
   ]
  },
  {
   "cell_type": "markdown",
   "metadata": {},
   "source": [
    "# Load data"
   ]
  },
  {
   "cell_type": "code",
   "execution_count": 4,
   "metadata": {},
   "outputs": [
    {
     "name": "stdout",
     "output_type": "stream",
     "text": [
      "Total number of plates: 174\n"
     ]
    }
   ],
   "source": [
    "img_paths = []\n",
    "img_paths.extend(glob.glob('./LRC_frames/*.jpg'))\n",
    "img_paths.extend(glob.glob('./LRC_frames/*/*.jpg'))\n",
    "img_paths = [path for path in img_paths if 'NA_' not in path]\n",
    "print(f'Total number of plates: {len(img_paths)}')"
   ]
  },
  {
   "cell_type": "markdown",
   "metadata": {},
   "source": [
    "# Evaluate plate detector performance"
   ]
  },
  {
   "cell_type": "code",
   "execution_count": 5,
   "metadata": {},
   "outputs": [
    {
     "data": {
      "application/vnd.jupyter.widget-view+json": {
       "model_id": "d477a4ddb1f14d5aa9246c7f451c7ba0",
       "version_major": 2,
       "version_minor": 0
      },
      "text/plain": [
       "HBox(children=(IntProgress(value=0, max=22), HTML(value='')))"
      ]
     },
     "metadata": {},
     "output_type": "display_data"
    },
    {
     "name": "stdout",
     "output_type": "stream",
     "text": [
      "multiple plates detected ./LRC_frames/SJ4986_82715.jpg, ignored img\n",
      "\n",
      "missed 4 plates\n"
     ]
    }
   ],
   "source": [
    "num_wrong_plates = 0\n",
    "\n",
    "plates = {}\n",
    "for i in tqdm(range(0, len(img_paths), 8)):\n",
    "    batch_paths = img_paths[i: i+8]\n",
    "    batch_imgs = [cv2.imread(path) for path in batch_paths]\n",
    "    batch_coords = detector.predict(batch_imgs)\n",
    "    for path, img, coords in zip(batch_paths, batch_imgs, batch_coords):\n",
    "        if coords is None:\n",
    "            num_wrong_plates += 1\n",
    "            continue\n",
    "        elif len(coords) > 1:\n",
    "            print(f'multiple plates detected {path}, ignored img')\n",
    "            continue\n",
    "        else:\n",
    "            h, w = img.shape[:2]\n",
    "            x1, y1, x2, y2, _, _, _ = coords[0].astype('int')\n",
    "            pad_w = int((x2-x1)*pad_x)\n",
    "            pad_h = int((y2-y1)*pad_y)\n",
    "            y1 = int(max(y1-pad_h,0))\n",
    "            y2 = int(min(y2+pad_h,h))\n",
    "            x1 = int(max(x1-pad_w,0))\n",
    "            x2 = int(min(x2+pad_w,w))\n",
    "            plates[path] = img[y1:y2, x1:x2]\n",
    "print(f'missed {num_wrong_plates} plates')"
   ]
  },
  {
   "cell_type": "code",
   "execution_count": null,
   "metadata": {
    "scrolled": true
   },
   "outputs": [],
   "source": [
    "w=10\n",
    "h=10\n",
    "fig=plt.figure(figsize=(12, 100))\n",
    "columns = 5\n",
    "rows = 35\n",
    "for i, (path, plate) in enumerate(plates.items()):\n",
    "    sub_plt = fig.add_subplot(rows, columns, i+1)\n",
    "    sub_plt.set_title(path, fontsize=8)\n",
    "    plt.imshow(plate)\n",
    "plt.show()"
   ]
  },
  {
   "cell_type": "code",
   "execution_count": 6,
   "metadata": {},
   "outputs": [
    {
     "name": "stdout",
     "output_type": "stream",
     "text": [
      "please look above and count wrong sample: 2\n",
      "Total of detection missing/wrong = 6\n",
      "Acc: 0.9644970414201184\n"
     ]
    }
   ],
   "source": [
    "num_wrong_plates += int(input('please look above and count wrong sample: '))\n",
    "print(f'Total of detection missing/wrong = {num_wrong_plates}')\n",
    "print(f'Acc: {(len(plates)-num_wrong_plates)/len(plates)}')"
   ]
  },
  {
   "cell_type": "code",
   "execution_count": 7,
   "metadata": {},
   "outputs": [],
   "source": [
    "# delete wrong plates\n",
    "del plates['./LRC_frames/PB3180_83530.jpg']\n",
    "del plates['./LRC_frames/MW8887_86826.jpg']"
   ]
  },
  {
   "cell_type": "markdown",
   "metadata": {},
   "source": [
    "# Evaluate segmentator performance"
   ]
  },
  {
   "cell_type": "code",
   "execution_count": 8,
   "metadata": {},
   "outputs": [],
   "source": [
    "def get_gt_from_path(path):\n",
    "    return path.split('/')[-1].split('_')[0]"
   ]
  },
  {
   "cell_type": "code",
   "execution_count": 9,
   "metadata": {},
   "outputs": [
    {
     "data": {
      "application/vnd.jupyter.widget-view+json": {
       "model_id": "3ed722b9498b49a9b414dd7686038f4f",
       "version_major": 2,
       "version_minor": 0
      },
      "text/plain": [
       "HBox(children=(IntProgress(value=0, max=21), HTML(value='')))"
      ]
     },
     "metadata": {},
     "output_type": "display_data"
    },
    {
     "name": "stdout",
     "output_type": "stream",
     "text": [
      "\n",
      "missed 19 chars\n"
     ]
    }
   ],
   "source": [
    "num_wrong_seg = 0\n",
    "ttl_chars = 0\n",
    "\n",
    "plates = {k: v for k, v in plates.items() if v is not None}\n",
    "path_plates_lst = list(plates.items())\n",
    "chars = {}\n",
    "for i in tqdm(range(0, len(path_plates_lst), 8)):\n",
    "    batch_paths = [path_plate_tuple[0] for path_plate_tuple in path_plates_lst[i: i+8]]\n",
    "    batch_plates = [path_plate_tuple[1] for path_plate_tuple in path_plates_lst[i: i+8]]\n",
    "    batch_coords = segmentator.predict(batch_plates)\n",
    "    for path, plate, coords in zip(batch_paths, batch_plates, batch_coords):\n",
    "        gt = get_gt_from_path(path)\n",
    "        ttl_chars += len(gt)\n",
    "        # only count missing seg here, wrong seg will be check by hand later\n",
    "        if coords is None:\n",
    "            num_wrong_seg += len(gt)\n",
    "            continue\n",
    "        if len(coords) < len(gt):\n",
    "            num_wrong_seg += (len(gt) - len(coords))\n",
    "        chars_lst = []\n",
    "        for coord in coords:\n",
    "            x1, y1, x2, y2, _, _ = coord.astype('int')\n",
    "            y1 = int(y1)-2\n",
    "            y2 = int(y2)+2\n",
    "            x1 = int(x1)-2\n",
    "            x2 = int(x2)+2\n",
    "\n",
    "            # Avoid out of boundary of image\n",
    "            y1 = max(0,y1)\n",
    "            y2 = max(0,y2)\n",
    "            x1 = max(0,x1)\n",
    "            x2 = max(0,x2)\n",
    "            y1 = min(plate.shape[0],y1)\n",
    "            y2 = min(plate.shape[0],y2)\n",
    "            x1 = min(plate.shape[1],x1)\n",
    "            x2 = min(plate.shape[1],x2)\n",
    "            \n",
    "            chars_lst.append(plate[y1:y2, x1:x2])\n",
    "        chars[path] = chars_lst\n",
    "print(f'missed {num_wrong_seg} chars')"
   ]
  },
  {
   "cell_type": "code",
   "execution_count": null,
   "metadata": {},
   "outputs": [],
   "source": [
    "w=10\n",
    "h=10\n",
    "fig=plt.figure(figsize=(12, 800))\n",
    "columns = 5\n",
    "rows = 200\n",
    "i = 0\n",
    "for path, char_lst in chars.items():\n",
    "    for char in char_lst:\n",
    "        sub_plt = fig.add_subplot(rows, columns, i+1)\n",
    "        sub_plt.set_title(path, fontsize=8)\n",
    "        plt.imshow(char)\n",
    "        i += 1\n",
    "plt.show()"
   ]
  },
  {
   "cell_type": "code",
   "execution_count": null,
   "metadata": {},
   "outputs": [],
   "source": [
    "num_wrong_seg += int(input('please look above and count wrong sample: '))\n",
    "print(f'Total of segmentation missing/wrong = {num_wrong_seg}')\n",
    "print(f'Acc: {(ttl_chars-num_wrong_seg)/ttl_chars}')"
   ]
  },
  {
   "cell_type": "code",
   "execution_count": null,
   "metadata": {},
   "outputs": [],
   "source": [
    "# supposed needa delete wrong seg\n",
    "# but it will need to delete gt char coorespondingly, too crazy,\n",
    "# so just ignore wrong seg and let's test on recogniser directly"
   ]
  },
  {
   "cell_type": "markdown",
   "metadata": {},
   "source": [
    "# Evaluate recogniser performance"
   ]
  },
  {
   "cell_type": "code",
   "execution_count": 12,
   "metadata": {},
   "outputs": [
    {
     "data": {
      "application/vnd.jupyter.widget-view+json": {
       "model_id": "e19486a037b14665a91e13a750098e10",
       "version_major": 2,
       "version_minor": 0
      },
      "text/plain": [
       "HBox(children=(IntProgress(value=0, max=167), HTML(value='')))"
      ]
     },
     "metadata": {},
     "output_type": "display_data"
    },
    {
     "name": "stdout",
     "output_type": "stream",
     "text": [
      "\n",
      "recognition wrong: 31/950\n",
      "acc: 0.9673684210526315\n"
     ]
    }
   ],
   "source": [
    "num_wrong_recog = 0\n",
    "num_chars = 0\n",
    "wrong_char_img_lst = []\n",
    "for path, char_lst in tqdm(chars.items(), total=len(chars)):\n",
    "    gt = get_gt_from_path(path)\n",
    "    pred, conf = recognizer.predict(char_lst)\n",
    "    num_chars += len(pred)\n",
    "    for pred_char, gt_char, char_img in zip(pred, gt, char_lst):\n",
    "        if pred_char != gt_char:\n",
    "            num_wrong_recog += 1\n",
    "            wrong_char_img_lst.append(char_img)\n",
    "print(f'recognition wrong: {num_wrong_recog}/{num_chars}')\n",
    "print(f'acc: {(num_chars-num_wrong_recog)/num_chars}')"
   ]
  },
  {
   "cell_type": "code",
   "execution_count": null,
   "metadata": {},
   "outputs": [],
   "source": [
    "plt.imshow(char_lst[0])"
   ]
  },
  {
   "cell_type": "code",
   "execution_count": null,
   "metadata": {
    "scrolled": true
   },
   "outputs": [],
   "source": [
    "w=10\n",
    "h=10\n",
    "fig=plt.figure(figsize=(12, 100))\n",
    "columns = 5\n",
    "rows = 35\n",
    "for i, char in enumerate(wrong_char_img_lst):\n",
    "    sub_plt = fig.add_subplot(rows, columns, i+1)\n",
    "    plt.imshow(char)\n",
    "plt.show()"
   ]
  },
  {
   "cell_type": "code",
   "execution_count": null,
   "metadata": {},
   "outputs": [],
   "source": [
    "recognizer.predict(char_lst)"
   ]
  },
  {
   "cell_type": "code",
   "execution_count": null,
   "metadata": {},
   "outputs": [],
   "source": [
    "plt.imshow(char_lst[0])"
   ]
  },
  {
   "cell_type": "code",
   "execution_count": null,
   "metadata": {},
   "outputs": [],
   "source": []
  }
 ],
 "metadata": {
  "kernelspec": {
   "display_name": "Python 3",
   "language": "python",
   "name": "python3"
  },
  "language_info": {
   "codemirror_mode": {
    "name": "ipython",
    "version": 3
   },
   "file_extension": ".py",
   "mimetype": "text/x-python",
   "name": "python",
   "nbconvert_exporter": "python",
   "pygments_lexer": "ipython3",
   "version": "3.7.3"
  }
 },
 "nbformat": 4,
 "nbformat_minor": 2
}
