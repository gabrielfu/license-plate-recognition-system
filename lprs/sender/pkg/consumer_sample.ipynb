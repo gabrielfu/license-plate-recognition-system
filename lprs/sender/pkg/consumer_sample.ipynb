{
 "cells": [
  {
   "cell_type": "code",
   "execution_count": 1,
   "metadata": {},
   "outputs": [],
   "source": [
    "from kafka import KafkaConsumer\n",
    "import json\n",
    "\n",
    "consumer = KafkaConsumer('test',\n",
    "                         #group_id='my-group',\n",
    "                         bootstrap_servers=['localhost:9092'],\n",
    "                         value_deserializer=lambda m: json.loads(m.decode('ascii')))"
   ]
  },
  {
   "cell_type": "code",
   "execution_count": null,
   "metadata": {},
   "outputs": [
    {
     "name": "stdout",
     "output_type": "stream",
     "text": [
      "{'Camera ID': '123.0.0.1', 'License number': 'plate_num', 'Time': '07/27/2022, 16:02:44'}\n",
      "{'Camera ID': '123.0.0.2', 'License number': 'plate_num', 'Time': '07/27/2022, 16:02:44'}\n",
      "{'Camera ID': '123.0.0.1', 'License number': 'plate_num', 'Time': '07/27/2022, 16:02:48'}\n",
      "{'Camera ID': '123.0.0.2', 'License number': 'plate_num', 'Time': '07/27/2022, 16:02:48'}\n",
      "{'Camera ID': '123.0.0.1', 'License number': 'plate_num', 'Time': '07/27/2022, 16:02:53'}\n",
      "{'Camera ID': '123.0.0.2', 'License number': 'plate_num', 'Time': '07/27/2022, 16:02:53'}\n",
      "{'Camera ID': '123.0.0.1', 'License number': 'plate_num', 'Time': '07/27/2022, 16:02:57'}\n",
      "{'Camera ID': '123.0.0.2', 'License number': 'plate_num', 'Time': '07/27/2022, 16:02:57'}\n",
      "{'camera': '123.0.0.1', 'license_number': 'AB1234', 'time': '07/27/2022, 16:04:47'}\n",
      "{'camera': '123.0.0.2', 'license_number': 'CD5678', 'time': '07/27/2022, 16:04:47'}\n",
      "{'camera': '123.0.0.1', 'license_number': 'AB1234', 'time': '07/27/2022, 16:04:51'}\n",
      "{'camera': '123.0.0.2', 'license_number': 'CD5678', 'time': '07/27/2022, 16:04:51'}\n",
      "{'camera': '123.0.0.1', 'license_number': 'AB1234', 'time': '07/27/2022, 16:04:55'}\n",
      "{'camera': '123.0.0.2', 'license_number': 'CD5678', 'time': '07/27/2022, 16:04:55'}\n",
      "{'camera': '123.0.0.1', 'license_number': 'AB1234', 'time': '07/27/2022, 16:04:59'}\n",
      "{'camera': '123.0.0.2', 'license_number': 'CD5678', 'time': '07/27/2022, 16:04:59'}\n",
      "{'camera': '123.0.0.1', 'license_number': 'AB1234', 'confidence': 0.99, 'time': '2022-07-27 16:08:22'}\n",
      "{'camera': '123.0.0.2', 'license_number': 'CD5678', 'confidence': 0.88, 'time': '2022-07-27 16:08:22'}\n",
      "{'camera': '123.0.0.1', 'license_number': 'AB1234', 'confidence': 0.99, 'image': 'EiLzL0j31D8cT7K+VEXdPyxWj8lZbME/+88wNlxV6z846rQoZGTuP3h0EcpXzso/mc/yUyAG4z9i98n2LJrUPzB7MxAruMk/5aVwNEix5T92UTgpRnruP+xd7tTEOdU/gNDQvoXzkj9D/tBFXunoP7AN+OIbTrs/', 'time': '2022-07-27 16:12:18'}\n",
      "{'camera': '123.0.0.2', 'license_number': 'CD5678', 'confidence': 0.88, 'image': 'bsswpYLO7j+7tO/SGKftP2DlwA3W45o/4+lJfrh97D8s7qgKebTMP5Dyk3sZxLs/JO1raRD63T+U/ndltFfEP25LhrZTuO0/5Bh04/Sy3D8Uq4BUBS3LP4EvwQyS0+g/cOFpjh6rqT/cSObfsr3VP3M8fK+p5u4/', 'time': '2022-07-27 16:12:18'}\n",
      "{'camera': '123.0.0.1', 'license_number': 'AB1234', 'confidence': 0.99, 'image': 'yO6KO4kguz9owizvn6/UPzAFDJ46duA/HW+uOm2T4D/4dtegCMO6P1iFOY2Yets/zVjjEALF5j/23KvJDVPQP72m7mDo/+o/kLA5Igd+1j84T7zB+Uq6P2gfskHdJtY/VMSiXuFR6j8RAuUH77TrPx2e2mrxqOU/', 'time': '2022-07-27 16:12:22'}\n",
      "{'camera': '123.0.0.2', 'license_number': 'CD5678', 'confidence': 0.88, 'image': 'eSXScpf76j8Aes66JBmBPy64/MEuOds/xmSjf+AJ4j8YP69Gkp7vPyMkYAcpEO4/eEIDKcoSvz+eYYOaQh7vPwCuXHNXu30/vt/X+qkr2j8o7pC/ARKzPyX014MsIug/SBp04K59uD9Yqf4lPXrEP3ZsfEPwadU/', 'time': '2022-07-27 16:12:22'}\n",
      "{'camera': '123.0.0.1', 'license_number': 'AB1234', 'confidence': 0.99, 'image': 'ME0vjhZF2D82BIdpyUrtP/HENAlyZOM/UCkhUAq85D8yLVLrcCDhPxNfZrO8h+8/mpx4OJT76T/sg3HdjhXJP1w7yg0YWME/4cPoZM6E5T8R+EYn/2DmP4y07Bzcntc/gMd33GfSoT/UMUfYEuDjP9b6fJIuCNk/', 'time': '2022-07-27 16:12:26'}\n",
      "{'camera': '123.0.0.2', 'license_number': 'CD5678', 'confidence': 0.88, 'image': 'o4xXfiUD7z9wYy3vD3DGPxrJv+IC0tQ/MkE1Wfbg5j8vVgwrxQXoP4weHLU+u94/pAcsOyLmyD8cDPEN+TzZPzTyyuL7ScU/7A85vuHH1T80iQ/M0LHcPyhiFTIJbtw/0uHoNj/75T8iR0Mg6lrVP5iYdDwQXcQ/', 'time': '2022-07-27 16:12:26'}\n",
      "{'camera': '123.0.0.1', 'license_number': 'AB1234', 'confidence': 0.99, 'image': 'Dyh3eXSO7j9A1GsHkDPSPzUZGyUKYO4/4f3RdSjS4D+Y0m69dqLHP9bBI5B6t9g/sVpBsj116z9+lzfbwM/gP1g7X1rEvcY/mc4l5Pwy7T84T5BsYbDAP4ChaC/ot6k/AGErU1pLpD+ACR3a0CzNP8DQqL62gOE/', 'time': '2022-07-27 16:12:30'}\n",
      "{'camera': '123.0.0.2', 'license_number': 'CD5678', 'confidence': 0.88, 'image': 'CHn1Vuu4vz/pfYZFKkfmPwQs/tGV8uw/JiJIOyyt2T+e0EtXDivpP2RRXLcBMOc/5ecRYG694j9KOdaPthvhP3UtiM+QA+M/wsxfOYhY2T+ytPgjb8fvP0qg/xW/F9o/ViS4Jvt05j9yW6v7UvTSP8BhJqLNyL0/', 'time': '2022-07-27 16:12:30'}\n",
      "{'camera': '123.0.0.1', 'license_number': 'AB1234', 'confidence': 0.99, 'image': 'Fu128+rm2z8pC0gd8vLjP1kSHgx3su0/mEWmsVLs6D8QHV7V2yCoP4zb+lUcDcw/1kZR0UDW4T9QrAGmjKPTPwS+IBQLVuM/BGL4lin15T/AdgMTs8G8PwjEs1Ush9k/o54HD1ts5D9aQRTBhTziPz08iQWcMe8/', 'time': '2022-07-27 16:12:34'}\n",
      "{'camera': '123.0.0.2', 'license_number': 'CD5678', 'confidence': 0.88, 'image': '+hgokgT+0j9zVO95IxfmP75Af4Rxs+U/7PXxRnZ9xj+nwcBHgPLgP77rqMpiz+4/+HyTI/4Vsz9eV6iE3ELqPz4sbZmI5OM/mGlPj4tZ6j/EKHvznxDsP4iAavG6IsA/oLjp3fLOwz9zfFJeXQrgP+LaCGIcZOg/', 'time': '2022-07-27 16:12:34'}\n"
     ]
    }
   ],
   "source": [
    "for message in consumer:\n",
    "    # message value and key are raw bytes -- decode if necessary!\n",
    "    # e.g., for unicode: `message.value.decode('utf-8')`\n",
    "    print(message.value)"
   ]
  },
  {
   "cell_type": "code",
   "execution_count": null,
   "metadata": {},
   "outputs": [],
   "source": []
  }
 ],
 "metadata": {
  "kernelspec": {
   "display_name": "Python 3 (ipykernel)",
   "language": "python",
   "name": "python3"
  },
  "language_info": {
   "codemirror_mode": {
    "name": "ipython",
    "version": 3
   },
   "file_extension": ".py",
   "mimetype": "text/x-python",
   "name": "python",
   "nbconvert_exporter": "python",
   "pygments_lexer": "ipython3",
   "version": "3.9.7"
  }
 },
 "nbformat": 4,
 "nbformat_minor": 4
}
