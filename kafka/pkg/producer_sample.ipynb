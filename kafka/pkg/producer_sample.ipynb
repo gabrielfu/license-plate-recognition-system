{
 "cells": [
  {
   "cell_type": "code",
   "execution_count": 14,
   "metadata": {},
   "outputs": [],
   "source": [
    "from kafka import KafkaProducer\n",
    "import json"
   ]
  },
  {
   "cell_type": "code",
   "execution_count": 15,
   "metadata": {},
   "outputs": [],
   "source": [
    "producer = KafkaProducer(bootstrap_servers=['0.0.0.0:9092'], \n",
    "                         value_serializer=lambda m: json.dumps(m).encode('ascii'))\n",
    "\n",
    "def on_send_success(record_metadata):\n",
    "    print(record_metadata.topic)\n",
    "    print(record_metadata.partition)\n",
    "    print(record_metadata.offset)\n",
    "\n",
    "def on_send_error(excp):\n",
    "    log.error('I am an errback', exc_info=excp)"
   ]
  },
  {
   "cell_type": "code",
   "execution_count": 17,
   "metadata": {},
   "outputs": [
    {
     "name": "stdout",
     "output_type": "stream",
     "text": [
      "test2\n",
      "0\n",
      "1\n"
     ]
    }
   ],
   "source": [
    "producer.send('test2', {'jayson': 'on99'}).add_callback(on_send_success).add_errback(on_send_error)\n",
    "# block until all async messages are sent\n",
    "producer.flush()"
   ]
  },
  {
   "cell_type": "code",
   "execution_count": 2,
   "metadata": {},
   "outputs": [],
   "source": [
    "from threading import Thread\n",
    "import time\n",
    "class Temp(Thread):\n",
    "    \"\"\"Thread of outputting camera.lpr_results forever\"\"\"\n",
    "    def __init__(self, x):\n",
    "        Thread.__init__(self)\n",
    "        self.x = x\n",
    "\n",
    "    def run(self):\n",
    "        while True:\n",
    "            self.x += 1\n",
    "            time.sleep(1)"
   ]
  },
  {
   "cell_type": "code",
   "execution_count": 3,
   "metadata": {},
   "outputs": [],
   "source": [
    "x = 0\n",
    "temp = Temp(x)\n",
    "temp.start()"
   ]
  },
  {
   "cell_type": "code",
   "execution_count": 6,
   "metadata": {},
   "outputs": [
    {
     "data": {
      "text/plain": [
       "0"
      ]
     },
     "execution_count": 6,
     "metadata": {},
     "output_type": "execute_result"
    }
   ],
   "source": [
    "x"
   ]
  },
  {
   "cell_type": "code",
   "execution_count": null,
   "metadata": {},
   "outputs": [],
   "source": []
  }
 ],
 "metadata": {
  "kernelspec": {
   "display_name": "Python 3",
   "language": "python",
   "name": "python3"
  },
  "language_info": {
   "codemirror_mode": {
    "name": "ipython",
    "version": 3
   },
   "file_extension": ".py",
   "mimetype": "text/x-python",
   "name": "python",
   "nbconvert_exporter": "python",
   "pygments_lexer": "ipython3",
   "version": "3.6.5"
  }
 },
 "nbformat": 4,
 "nbformat_minor": 2
}
