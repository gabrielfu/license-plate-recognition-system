{
 "cells": [
  {
   "cell_type": "code",
   "execution_count": 1,
   "metadata": {},
   "outputs": [],
   "source": [
    "from kafka import KafkaConsumer\n",
    "import json\n",
    "\n",
    "consumer = KafkaConsumer('lprs',\n",
    "                         #group_id='my-group',\n",
    "                         bootstrap_servers=['localhost:9092'],\n",
    "                         value_deserializer=lambda m: json.loads(m.decode('ascii')))"
   ]
  },
  {
   "cell_type": "code",
   "execution_count": 2,
   "metadata": {},
   "outputs": [
    {
     "name": "stdout",
     "output_type": "stream",
     "text": [
      "{'Camera ID': '123.0.0.1', 'License number': 'plate_num', 'Time': '07/27/2022, 16:02:44'}\n",
      "{'Camera ID': '123.0.0.2', 'License number': 'plate_num', 'Time': '07/27/2022, 16:02:44'}\n",
      "{'Camera ID': '123.0.0.1', 'License number': 'plate_num', 'Time': '07/27/2022, 16:02:48'}\n",
      "{'Camera ID': '123.0.0.2', 'License number': 'plate_num', 'Time': '07/27/2022, 16:02:48'}\n",
      "{'Camera ID': '123.0.0.1', 'License number': 'plate_num', 'Time': '07/27/2022, 16:02:53'}\n",
      "{'Camera ID': '123.0.0.2', 'License number': 'plate_num', 'Time': '07/27/2022, 16:02:53'}\n",
      "{'Camera ID': '123.0.0.1', 'License number': 'plate_num', 'Time': '07/27/2022, 16:02:57'}\n",
      "{'Camera ID': '123.0.0.2', 'License number': 'plate_num', 'Time': '07/27/2022, 16:02:57'}\n",
      "{'camera': '123.0.0.1', 'license_number': 'AB1234', 'time': '07/27/2022, 16:04:47'}\n",
      "{'camera': '123.0.0.2', 'license_number': 'CD5678', 'time': '07/27/2022, 16:04:47'}\n",
      "{'camera': '123.0.0.1', 'license_number': 'AB1234', 'time': '07/27/2022, 16:04:51'}\n",
      "{'camera': '123.0.0.2', 'license_number': 'CD5678', 'time': '07/27/2022, 16:04:51'}\n",
      "{'camera': '123.0.0.1', 'license_number': 'AB1234', 'time': '07/27/2022, 16:04:55'}\n",
      "{'camera': '123.0.0.2', 'license_number': 'CD5678', 'time': '07/27/2022, 16:04:55'}\n",
      "{'camera': '123.0.0.1', 'license_number': 'AB1234', 'time': '07/27/2022, 16:04:59'}\n",
      "{'camera': '123.0.0.2', 'license_number': 'CD5678', 'time': '07/27/2022, 16:04:59'}\n",
      "{'camera': '123.0.0.1', 'license_number': 'AB1234', 'confidence': 0.99, 'time': '2022-07-27 16:08:22'}\n",
      "{'camera': '123.0.0.2', 'license_number': 'CD5678', 'confidence': 0.88, 'time': '2022-07-27 16:08:22'}\n",
      "{'camera': '123.0.0.1', 'license_number': 'AB1234', 'confidence': 0.99, 'image': 'EiLzL0j31D8cT7K+VEXdPyxWj8lZbME/+88wNlxV6z846rQoZGTuP3h0EcpXzso/mc/yUyAG4z9i98n2LJrUPzB7MxAruMk/5aVwNEix5T92UTgpRnruP+xd7tTEOdU/gNDQvoXzkj9D/tBFXunoP7AN+OIbTrs/', 'time': '2022-07-27 16:12:18'}\n",
      "{'camera': '123.0.0.2', 'license_number': 'CD5678', 'confidence': 0.88, 'image': 'bsswpYLO7j+7tO/SGKftP2DlwA3W45o/4+lJfrh97D8s7qgKebTMP5Dyk3sZxLs/JO1raRD63T+U/ndltFfEP25LhrZTuO0/5Bh04/Sy3D8Uq4BUBS3LP4EvwQyS0+g/cOFpjh6rqT/cSObfsr3VP3M8fK+p5u4/', 'time': '2022-07-27 16:12:18'}\n",
      "{'camera': '123.0.0.1', 'license_number': 'AB1234', 'confidence': 0.99, 'image': 'yO6KO4kguz9owizvn6/UPzAFDJ46duA/HW+uOm2T4D/4dtegCMO6P1iFOY2Yets/zVjjEALF5j/23KvJDVPQP72m7mDo/+o/kLA5Igd+1j84T7zB+Uq6P2gfskHdJtY/VMSiXuFR6j8RAuUH77TrPx2e2mrxqOU/', 'time': '2022-07-27 16:12:22'}\n",
      "{'camera': '123.0.0.2', 'license_number': 'CD5678', 'confidence': 0.88, 'image': 'eSXScpf76j8Aes66JBmBPy64/MEuOds/xmSjf+AJ4j8YP69Gkp7vPyMkYAcpEO4/eEIDKcoSvz+eYYOaQh7vPwCuXHNXu30/vt/X+qkr2j8o7pC/ARKzPyX014MsIug/SBp04K59uD9Yqf4lPXrEP3ZsfEPwadU/', 'time': '2022-07-27 16:12:22'}\n",
      "{'camera': '123.0.0.1', 'license_number': 'AB1234', 'confidence': 0.99, 'image': 'ME0vjhZF2D82BIdpyUrtP/HENAlyZOM/UCkhUAq85D8yLVLrcCDhPxNfZrO8h+8/mpx4OJT76T/sg3HdjhXJP1w7yg0YWME/4cPoZM6E5T8R+EYn/2DmP4y07Bzcntc/gMd33GfSoT/UMUfYEuDjP9b6fJIuCNk/', 'time': '2022-07-27 16:12:26'}\n",
      "{'camera': '123.0.0.2', 'license_number': 'CD5678', 'confidence': 0.88, 'image': 'o4xXfiUD7z9wYy3vD3DGPxrJv+IC0tQ/MkE1Wfbg5j8vVgwrxQXoP4weHLU+u94/pAcsOyLmyD8cDPEN+TzZPzTyyuL7ScU/7A85vuHH1T80iQ/M0LHcPyhiFTIJbtw/0uHoNj/75T8iR0Mg6lrVP5iYdDwQXcQ/', 'time': '2022-07-27 16:12:26'}\n",
      "{'camera': '123.0.0.1', 'license_number': 'AB1234', 'confidence': 0.99, 'image': 'Dyh3eXSO7j9A1GsHkDPSPzUZGyUKYO4/4f3RdSjS4D+Y0m69dqLHP9bBI5B6t9g/sVpBsj116z9+lzfbwM/gP1g7X1rEvcY/mc4l5Pwy7T84T5BsYbDAP4ChaC/ot6k/AGErU1pLpD+ACR3a0CzNP8DQqL62gOE/', 'time': '2022-07-27 16:12:30'}\n",
      "{'camera': '123.0.0.2', 'license_number': 'CD5678', 'confidence': 0.88, 'image': 'CHn1Vuu4vz/pfYZFKkfmPwQs/tGV8uw/JiJIOyyt2T+e0EtXDivpP2RRXLcBMOc/5ecRYG694j9KOdaPthvhP3UtiM+QA+M/wsxfOYhY2T+ytPgjb8fvP0qg/xW/F9o/ViS4Jvt05j9yW6v7UvTSP8BhJqLNyL0/', 'time': '2022-07-27 16:12:30'}\n",
      "{'camera': '123.0.0.1', 'license_number': 'AB1234', 'confidence': 0.99, 'image': 'Fu128+rm2z8pC0gd8vLjP1kSHgx3su0/mEWmsVLs6D8QHV7V2yCoP4zb+lUcDcw/1kZR0UDW4T9QrAGmjKPTPwS+IBQLVuM/BGL4lin15T/AdgMTs8G8PwjEs1Ush9k/o54HD1ts5D9aQRTBhTziPz08iQWcMe8/', 'time': '2022-07-27 16:12:34'}\n",
      "{'camera': '123.0.0.2', 'license_number': 'CD5678', 'confidence': 0.88, 'image': '+hgokgT+0j9zVO95IxfmP75Af4Rxs+U/7PXxRnZ9xj+nwcBHgPLgP77rqMpiz+4/+HyTI/4Vsz9eV6iE3ELqPz4sbZmI5OM/mGlPj4tZ6j/EKHvznxDsP4iAavG6IsA/oLjp3fLOwz9zfFJeXQrgP+LaCGIcZOg/', 'time': '2022-07-27 16:12:34'}\n",
      "{'camera': '123.0.0.1', 'license_number': 'AB1234', 'confidence': 0.99, 'image': 'UEGIXfQi7z+ANR6U1FqIP2pUe5mYLeo/7s+/4nI+7j84S3fdBWflP9vQV4LyVOw/7HH+lihLyD/YhF5bOLG/P7Jp+rKIPu8/BG61fuSnwz8Ymdjtcie3P/ujglSN8es/kNXm+/lf7T9/8GQtD4zqP/gEEtsB0sg/', 'time': '2022-07-27 16:15:37'}\n",
      "{'camera': '123.0.0.2', 'license_number': 'CD5678', 'confidence': 0.88, 'image': 'BwQCPstI4j/wkeRm/hvcPxq1x8h6U9A/bRZrrHzJ5D/eOFkJFvLcP6yjHmNCb+c/n/qlpnY/5j/ZqTWzP1LiP+gn+cV/Vtc/UrDwaNO/2z/29LkZJSfhP8ChUztfLtU/vJzt6JjU6z8Ih4Mi9hW6P6Jdr/iII94/', 'time': '2022-07-27 16:15:37'}\n",
      "{'camera': '123.0.0.1', 'license_number': 'AB1234', 'confidence': 0.99, 'image': 'sDQdAsg+1z/s216GE3DFP0xzWAGtycc/wDF1MInyrD+AQLGXHOyhP8DAbkDlPpQ/n9qSaIsj7T/O7CT1lXzkP6kmZeateuM/8KnaQPSFpD/xQtyPvA7vP7TXP9zdVNw/cmpfkX773z+AMK6bTQK4P7lqHfWlvOw/', 'time': '2022-07-27 16:15:41'}\n",
      "{'camera': '123.0.0.2', 'license_number': 'CD5678', 'confidence': 0.88, 'image': 'jOGAe+Riwz/yjDbAc3/iP5Y1K2zR49g/DtKZXr2D6D+tF8bz24DmP+hoCTV3Lsw/fez6A8if5z+Wv7485AHuPyC0Krgi1r0/kP9bvUWusz9s9Vjx997pP7L9T+vOztE/4oCLwFHb5j+YieFU13TUP4Kfu0SGX9E/', 'time': '2022-07-27 16:15:41'}\n",
      "{'camera': '123.0.0.1', 'license_number': 'AB1234', 'confidence': 0.99, 'image': 'FuR5lR1w5D+g8SXeD12eP9xDPydh38o/lhWmz+lh6T9W/yTFDH7XP0z2Ka8BPsw/zWvnaKRb7D8QNKdqUKvOP3jms7gAqu0/JQzQrE/s5T9GghySLRXrP8SFu82xScI/iwsFw5KF5T82oU0eNFngP1asYEMF7ts/', 'time': '2022-07-27 16:21:40'}\n",
      "{'camera': '123.0.0.2', 'license_number': 'CD5678', 'confidence': 0.88, 'image': 'mEud0uTr2D+OOEfnXaHsP8Q44HKvd+M/rGTdoc882j/UtdZfVgHFP6mmAPjuieY/pT56AtkE7z+gW8tjF/23P/DiUN752NI/L0XIxJlr7D8yMq8MbHTvP9Zi20/iVNI/OR5kIxri4T/kF5fzMEnKPzumunSwdu8/', 'time': '2022-07-27 16:21:40'}\n",
      "{'camera': '123.0.0.1', 'license_number': 'AB1234', 'confidence': 0.99, 'image': '5kP0878q0z9S1bgYdSzrP1AuE+RSyb8/CyPXGwO95j8Qv/6lu/rVP0aqjLrD3No/JGjqDuYX3j/4e5CuNfDFP7EHD5NEDOM/MKuE9xOL4z/N+Q7eX8XgPyRXs503qtY/kwoLtpr06z+MAyPaibnDP1DiRyR0SeY/', 'time': '2022-07-27 16:21:42'}\n",
      "{'camera': '123.0.0.2', 'license_number': 'CD5678', 'confidence': 0.88, 'image': 'Ht65Kq0H0j/8O/wdCa3JP4gq066a0MU/aLFnnWrcuT8gVoSd3/HCPxIl+Su9ROw/1JhVgkTe6T9K5sAq2w/QP2xpRVhbw+c/pDeizR20zT+I8mmjVx62PxDUBwMhNtI/OoZNGPF65T/W8cH5g3HYP8UdT9y0OO0/', 'time': '2022-07-27 16:21:42'}\n",
      "{'camera': '123.0.0.1', 'license_number': 'AB1234', 'confidence': 0.99, 'image': 'FG5BExRN1j9gNIgFrVCjP9KlK3+P0+k/cmN5RZ9k3z96zahm8JjsP3CNBbrT7NQ/9wa9UTxL7j9d0obZ7eXoP25L11/ft+E/hn166XoX2D+K9i85QZnuP5/M054uxew/I2/yiH2D7j9gSFVGZImTP6D0XqyDoKY/', 'time': '2022-07-27 16:21:44'}\n",
      "{'camera': '123.0.0.2', 'license_number': 'CD5678', 'confidence': 0.88, 'image': 'oJcBICi/pD8k+UxSMIPlPwLhgBfq1Oc/2BLSjxGY5z/zXzp4F+TjP57aLWUw+dE/4tpssu5c5j+ocjTSUPrTP4QfjCpopuE/4AGSJSeloD/bnM5YwVvrP66o44bJLto/8mhQCewf2j+xolzr9NLrP4KC1QgQeuA/', 'time': '2022-07-27 16:21:44'}\n",
      "{'camera': '123.0.0.1', 'license_number': 'AB1234', 'confidence': 0.99, 'image': 'oGO+w/gEkz+4u6O06LnKP0TLQW0hA+4/ThhOpBf40D/xUNmt447gP/j/yFLeht4/ICH8Io/60T/AjfHbfefrP4q2kaY6ItM/+BIkjpNtzj9ZKA72AxTqPyOStWrokew/EiuuzM7P4z8W8H78qHjoP+5ZwtfqGdo/', 'time': '2022-07-27 16:22:36'}\n",
      "{'camera': '123.0.0.2', 'license_number': 'CD5678', 'confidence': 0.88, 'image': 'VZzQnv6T6z9LvZdbYOLkP7KdYHLsE+o/3DNgpUlzzz8uo7zpN2LrP2DC3llfwqM/lC+RrN111z/AxYI8Yk2ZP4XmuRmNK+s/vN6LU35RxT9Qew35w4eqPxAbgI/Krrs/eNtFI47J2T+8xFH1diXgP0mUsQzf4Ok/', 'time': '2022-07-27 16:22:36'}\n",
      "{'camera': '123.0.0.1', 'license_number': 'AB1234', 'confidence': 0.99, 'image': 'dBRBuRtsyT8CUyHdS7/TP4QVpKQKi8U/AFjNqKqhQj8A+jN+N0qZP5hLZP/jesY/vg/6Ro2X6D8BqUKJ4CTuP7A13iAlb6M/DqcdW53Z1D+YmDXKvofqP8Wkr9zLieg/jmTAYrS31T/7st1gezrlP2qUzH7f6e0/', 'time': '2022-07-27 16:23:04'}\n",
      "{'camera': '123.0.0.2', 'license_number': 'CD5678', 'confidence': 0.88, 'image': 'ifLiza867D9IWkTcntnoP+AXPJ3lR6Q/2XksNXvK4j+C0wq2KOPiP+5yPWWXLOw/lhRMMQ4B2T8fclXruRvuP5+ryIFGsO4/utvS2Xcj2z/fKjIynbHvP5pw95a6x+0/E72wcDli5j/0/5yk7arJP/EUTu0lpuE/', 'time': '2022-07-27 16:23:04'}\n",
      "{'camera': '123.0.0.1', 'license_number': 'AB1234', 'confidence': 0.99, 'image': 'BHnp77Kn1T/QXgtpDkjiP0rrcQJQJeI/luzpcvUN6z+ysdRiqk3WP/MVtYany+0/YtGDrByA1D+wEo3QfaCpP9JWN7QNEuc/HIBNuEMw7z/mFmmM9tDVP4TrQJ/mouA/TXCkZBbd4j8kaecgZMDVP3IZEVb8INw/', 'time': '2022-07-27 16:23:22'}\n",
      "{'camera': '123.0.0.2', 'license_number': 'CD5678', 'confidence': 0.88, 'image': 'pK+L6Vzl5z8cFZgtO93KPylIf1YbKOY/6SJZD3xp6z/Io++JUQroPwWyvhDMUuQ/Zg0hnyib1T+YXMk/Aj/EP0Q7viWCbds/IYbqbXdw7D9WCHsMqC3QP9oCflAzrOY/eFqvRYPE2D+gCE9fmGbSP+X/ueK9Uuw/', 'time': '2022-07-27 16:23:22'}\n",
      "{'camera': '123.0.0.1', 'license_number': 'AB1234', 'confidence': 0.99, 'image': '8H3yNHQkqD+jd+bXh3/tP2bND2cTUdg/vYPClmFB6T+sVromyAftPxB6yqZW59U/mLLjoojn3z8ODKFdyqLfP6D4UXJWuqU/hbIc1/Jo5T9gUA/G8vXWPzSWc5HwuNw/OJtuQpRUvz+6KBCMsFrcPzz538oaq8s/', 'time': '2022-07-27 16:23:40'}\n",
      "{'camera': '123.0.0.2', 'license_number': 'CD5678', 'confidence': 0.88, 'image': 'WPhR0p20sz9gkk/FqJPZP05/ZDYn6NA/MYHpYD8F5z84h33J5xS2P5gq02nqSd4/tnQ5uJX06j9QFjw3+02pP+AO8D1pm7Q//Gcsl/kD1D/2X21CgcDtP97wrvdtY+Q/G2mKcmyZ6j+G+bTy+ybSPwAN2EaMHLQ/', 'time': '2022-07-27 16:23:40'}\n"
     ]
    },
    {
     "ename": "KeyboardInterrupt",
     "evalue": "",
     "output_type": "error",
     "traceback": [
      "\u001b[1;31m---------------------------------------------------------------------------\u001b[0m",
      "\u001b[1;31mKeyboardInterrupt\u001b[0m                         Traceback (most recent call last)",
      "\u001b[1;32mC:\\Users\\GABRIE~1\\AppData\\Local\\Temp/ipykernel_14532/892734682.py\u001b[0m in \u001b[0;36m<module>\u001b[1;34m\u001b[0m\n\u001b[1;32m----> 1\u001b[1;33m \u001b[1;32mfor\u001b[0m \u001b[0mmessage\u001b[0m \u001b[1;32min\u001b[0m \u001b[0mconsumer\u001b[0m\u001b[1;33m:\u001b[0m\u001b[1;33m\u001b[0m\u001b[1;33m\u001b[0m\u001b[0m\n\u001b[0m\u001b[0;32m      2\u001b[0m     \u001b[1;31m# message value and key are raw bytes -- decode if necessary!\u001b[0m\u001b[1;33m\u001b[0m\u001b[1;33m\u001b[0m\u001b[0m\n\u001b[0;32m      3\u001b[0m     \u001b[1;31m# e.g., for unicode: `message.value.decode('utf-8')`\u001b[0m\u001b[1;33m\u001b[0m\u001b[1;33m\u001b[0m\u001b[0m\n\u001b[0;32m      4\u001b[0m     \u001b[0mprint\u001b[0m\u001b[1;33m(\u001b[0m\u001b[0mmessage\u001b[0m\u001b[1;33m.\u001b[0m\u001b[0mvalue\u001b[0m\u001b[1;33m)\u001b[0m\u001b[1;33m\u001b[0m\u001b[1;33m\u001b[0m\u001b[0m\n",
      "\u001b[1;32m~\\AppData\\Local\\Programs\\Python\\Python39\\lib\\site-packages\\kafka\\consumer\\group.py\u001b[0m in \u001b[0;36m__next__\u001b[1;34m(self)\u001b[0m\n\u001b[0;32m   1191\u001b[0m             \u001b[1;32mreturn\u001b[0m \u001b[0mself\u001b[0m\u001b[1;33m.\u001b[0m\u001b[0mnext_v1\u001b[0m\u001b[1;33m(\u001b[0m\u001b[1;33m)\u001b[0m\u001b[1;33m\u001b[0m\u001b[1;33m\u001b[0m\u001b[0m\n\u001b[0;32m   1192\u001b[0m         \u001b[1;32melse\u001b[0m\u001b[1;33m:\u001b[0m\u001b[1;33m\u001b[0m\u001b[1;33m\u001b[0m\u001b[0m\n\u001b[1;32m-> 1193\u001b[1;33m             \u001b[1;32mreturn\u001b[0m \u001b[0mself\u001b[0m\u001b[1;33m.\u001b[0m\u001b[0mnext_v2\u001b[0m\u001b[1;33m(\u001b[0m\u001b[1;33m)\u001b[0m\u001b[1;33m\u001b[0m\u001b[1;33m\u001b[0m\u001b[0m\n\u001b[0m\u001b[0;32m   1194\u001b[0m \u001b[1;33m\u001b[0m\u001b[0m\n\u001b[0;32m   1195\u001b[0m     \u001b[1;32mdef\u001b[0m \u001b[0mnext_v2\u001b[0m\u001b[1;33m(\u001b[0m\u001b[0mself\u001b[0m\u001b[1;33m)\u001b[0m\u001b[1;33m:\u001b[0m\u001b[1;33m\u001b[0m\u001b[1;33m\u001b[0m\u001b[0m\n",
      "\u001b[1;32m~\\AppData\\Local\\Programs\\Python\\Python39\\lib\\site-packages\\kafka\\consumer\\group.py\u001b[0m in \u001b[0;36mnext_v2\u001b[1;34m(self)\u001b[0m\n\u001b[0;32m   1199\u001b[0m                 \u001b[0mself\u001b[0m\u001b[1;33m.\u001b[0m\u001b[0m_iterator\u001b[0m \u001b[1;33m=\u001b[0m \u001b[0mself\u001b[0m\u001b[1;33m.\u001b[0m\u001b[0m_message_generator_v2\u001b[0m\u001b[1;33m(\u001b[0m\u001b[1;33m)\u001b[0m\u001b[1;33m\u001b[0m\u001b[1;33m\u001b[0m\u001b[0m\n\u001b[0;32m   1200\u001b[0m             \u001b[1;32mtry\u001b[0m\u001b[1;33m:\u001b[0m\u001b[1;33m\u001b[0m\u001b[1;33m\u001b[0m\u001b[0m\n\u001b[1;32m-> 1201\u001b[1;33m                 \u001b[1;32mreturn\u001b[0m \u001b[0mnext\u001b[0m\u001b[1;33m(\u001b[0m\u001b[0mself\u001b[0m\u001b[1;33m.\u001b[0m\u001b[0m_iterator\u001b[0m\u001b[1;33m)\u001b[0m\u001b[1;33m\u001b[0m\u001b[1;33m\u001b[0m\u001b[0m\n\u001b[0m\u001b[0;32m   1202\u001b[0m             \u001b[1;32mexcept\u001b[0m \u001b[0mStopIteration\u001b[0m\u001b[1;33m:\u001b[0m\u001b[1;33m\u001b[0m\u001b[1;33m\u001b[0m\u001b[0m\n\u001b[0;32m   1203\u001b[0m                 \u001b[0mself\u001b[0m\u001b[1;33m.\u001b[0m\u001b[0m_iterator\u001b[0m \u001b[1;33m=\u001b[0m \u001b[1;32mNone\u001b[0m\u001b[1;33m\u001b[0m\u001b[1;33m\u001b[0m\u001b[0m\n",
      "\u001b[1;32m~\\AppData\\Local\\Programs\\Python\\Python39\\lib\\site-packages\\kafka\\consumer\\group.py\u001b[0m in \u001b[0;36m_message_generator_v2\u001b[1;34m(self)\u001b[0m\n\u001b[0;32m   1114\u001b[0m     \u001b[1;32mdef\u001b[0m \u001b[0m_message_generator_v2\u001b[0m\u001b[1;33m(\u001b[0m\u001b[0mself\u001b[0m\u001b[1;33m)\u001b[0m\u001b[1;33m:\u001b[0m\u001b[1;33m\u001b[0m\u001b[1;33m\u001b[0m\u001b[0m\n\u001b[0;32m   1115\u001b[0m         \u001b[0mtimeout_ms\u001b[0m \u001b[1;33m=\u001b[0m \u001b[1;36m1000\u001b[0m \u001b[1;33m*\u001b[0m \u001b[1;33m(\u001b[0m\u001b[0mself\u001b[0m\u001b[1;33m.\u001b[0m\u001b[0m_consumer_timeout\u001b[0m \u001b[1;33m-\u001b[0m \u001b[0mtime\u001b[0m\u001b[1;33m.\u001b[0m\u001b[0mtime\u001b[0m\u001b[1;33m(\u001b[0m\u001b[1;33m)\u001b[0m\u001b[1;33m)\u001b[0m\u001b[1;33m\u001b[0m\u001b[1;33m\u001b[0m\u001b[0m\n\u001b[1;32m-> 1116\u001b[1;33m         \u001b[0mrecord_map\u001b[0m \u001b[1;33m=\u001b[0m \u001b[0mself\u001b[0m\u001b[1;33m.\u001b[0m\u001b[0mpoll\u001b[0m\u001b[1;33m(\u001b[0m\u001b[0mtimeout_ms\u001b[0m\u001b[1;33m=\u001b[0m\u001b[0mtimeout_ms\u001b[0m\u001b[1;33m,\u001b[0m \u001b[0mupdate_offsets\u001b[0m\u001b[1;33m=\u001b[0m\u001b[1;32mFalse\u001b[0m\u001b[1;33m)\u001b[0m\u001b[1;33m\u001b[0m\u001b[1;33m\u001b[0m\u001b[0m\n\u001b[0m\u001b[0;32m   1117\u001b[0m         \u001b[1;32mfor\u001b[0m \u001b[0mtp\u001b[0m\u001b[1;33m,\u001b[0m \u001b[0mrecords\u001b[0m \u001b[1;32min\u001b[0m \u001b[0msix\u001b[0m\u001b[1;33m.\u001b[0m\u001b[0miteritems\u001b[0m\u001b[1;33m(\u001b[0m\u001b[0mrecord_map\u001b[0m\u001b[1;33m)\u001b[0m\u001b[1;33m:\u001b[0m\u001b[1;33m\u001b[0m\u001b[1;33m\u001b[0m\u001b[0m\n\u001b[0;32m   1118\u001b[0m             \u001b[1;31m# Generators are stateful, and it is possible that the tp / records\u001b[0m\u001b[1;33m\u001b[0m\u001b[1;33m\u001b[0m\u001b[0m\n",
      "\u001b[1;32m~\\AppData\\Local\\Programs\\Python\\Python39\\lib\\site-packages\\kafka\\consumer\\group.py\u001b[0m in \u001b[0;36mpoll\u001b[1;34m(self, timeout_ms, max_records, update_offsets)\u001b[0m\n\u001b[0;32m    653\u001b[0m         \u001b[0mremaining\u001b[0m \u001b[1;33m=\u001b[0m \u001b[0mtimeout_ms\u001b[0m\u001b[1;33m\u001b[0m\u001b[1;33m\u001b[0m\u001b[0m\n\u001b[0;32m    654\u001b[0m         \u001b[1;32mwhile\u001b[0m \u001b[1;32mTrue\u001b[0m\u001b[1;33m:\u001b[0m\u001b[1;33m\u001b[0m\u001b[1;33m\u001b[0m\u001b[0m\n\u001b[1;32m--> 655\u001b[1;33m             \u001b[0mrecords\u001b[0m \u001b[1;33m=\u001b[0m \u001b[0mself\u001b[0m\u001b[1;33m.\u001b[0m\u001b[0m_poll_once\u001b[0m\u001b[1;33m(\u001b[0m\u001b[0mremaining\u001b[0m\u001b[1;33m,\u001b[0m \u001b[0mmax_records\u001b[0m\u001b[1;33m,\u001b[0m \u001b[0mupdate_offsets\u001b[0m\u001b[1;33m=\u001b[0m\u001b[0mupdate_offsets\u001b[0m\u001b[1;33m)\u001b[0m\u001b[1;33m\u001b[0m\u001b[1;33m\u001b[0m\u001b[0m\n\u001b[0m\u001b[0;32m    656\u001b[0m             \u001b[1;32mif\u001b[0m \u001b[0mrecords\u001b[0m\u001b[1;33m:\u001b[0m\u001b[1;33m\u001b[0m\u001b[1;33m\u001b[0m\u001b[0m\n\u001b[0;32m    657\u001b[0m                 \u001b[1;32mreturn\u001b[0m \u001b[0mrecords\u001b[0m\u001b[1;33m\u001b[0m\u001b[1;33m\u001b[0m\u001b[0m\n",
      "\u001b[1;32m~\\AppData\\Local\\Programs\\Python\\Python39\\lib\\site-packages\\kafka\\consumer\\group.py\u001b[0m in \u001b[0;36m_poll_once\u001b[1;34m(self, timeout_ms, max_records, update_offsets)\u001b[0m\n\u001b[0;32m    700\u001b[0m \u001b[1;33m\u001b[0m\u001b[0m\n\u001b[0;32m    701\u001b[0m         \u001b[0mtimeout_ms\u001b[0m \u001b[1;33m=\u001b[0m \u001b[0mmin\u001b[0m\u001b[1;33m(\u001b[0m\u001b[0mtimeout_ms\u001b[0m\u001b[1;33m,\u001b[0m \u001b[0mself\u001b[0m\u001b[1;33m.\u001b[0m\u001b[0m_coordinator\u001b[0m\u001b[1;33m.\u001b[0m\u001b[0mtime_to_next_poll\u001b[0m\u001b[1;33m(\u001b[0m\u001b[1;33m)\u001b[0m \u001b[1;33m*\u001b[0m \u001b[1;36m1000\u001b[0m\u001b[1;33m)\u001b[0m\u001b[1;33m\u001b[0m\u001b[1;33m\u001b[0m\u001b[0m\n\u001b[1;32m--> 702\u001b[1;33m         \u001b[0mself\u001b[0m\u001b[1;33m.\u001b[0m\u001b[0m_client\u001b[0m\u001b[1;33m.\u001b[0m\u001b[0mpoll\u001b[0m\u001b[1;33m(\u001b[0m\u001b[0mtimeout_ms\u001b[0m\u001b[1;33m=\u001b[0m\u001b[0mtimeout_ms\u001b[0m\u001b[1;33m)\u001b[0m\u001b[1;33m\u001b[0m\u001b[1;33m\u001b[0m\u001b[0m\n\u001b[0m\u001b[0;32m    703\u001b[0m         \u001b[1;31m# after the long poll, we should check whether the group needs to rebalance\u001b[0m\u001b[1;33m\u001b[0m\u001b[1;33m\u001b[0m\u001b[0m\n\u001b[0;32m    704\u001b[0m         \u001b[1;31m# prior to returning data so that the group can stabilize faster\u001b[0m\u001b[1;33m\u001b[0m\u001b[1;33m\u001b[0m\u001b[0m\n",
      "\u001b[1;32m~\\AppData\\Local\\Programs\\Python\\Python39\\lib\\site-packages\\kafka\\client_async.py\u001b[0m in \u001b[0;36mpoll\u001b[1;34m(self, timeout_ms, future)\u001b[0m\n\u001b[0;32m    600\u001b[0m                     \u001b[0mtimeout\u001b[0m \u001b[1;33m=\u001b[0m \u001b[0mmax\u001b[0m\u001b[1;33m(\u001b[0m\u001b[1;36m0\u001b[0m\u001b[1;33m,\u001b[0m \u001b[0mtimeout\u001b[0m\u001b[1;33m)\u001b[0m  \u001b[1;31m# avoid negative timeouts\u001b[0m\u001b[1;33m\u001b[0m\u001b[1;33m\u001b[0m\u001b[0m\n\u001b[0;32m    601\u001b[0m \u001b[1;33m\u001b[0m\u001b[0m\n\u001b[1;32m--> 602\u001b[1;33m                 \u001b[0mself\u001b[0m\u001b[1;33m.\u001b[0m\u001b[0m_poll\u001b[0m\u001b[1;33m(\u001b[0m\u001b[0mtimeout\u001b[0m \u001b[1;33m/\u001b[0m \u001b[1;36m1000\u001b[0m\u001b[1;33m)\u001b[0m\u001b[1;33m\u001b[0m\u001b[1;33m\u001b[0m\u001b[0m\n\u001b[0m\u001b[0;32m    603\u001b[0m \u001b[1;33m\u001b[0m\u001b[0m\n\u001b[0;32m    604\u001b[0m             \u001b[1;31m# called without the lock to avoid deadlock potential\u001b[0m\u001b[1;33m\u001b[0m\u001b[1;33m\u001b[0m\u001b[0m\n",
      "\u001b[1;32m~\\AppData\\Local\\Programs\\Python\\Python39\\lib\\site-packages\\kafka\\client_async.py\u001b[0m in \u001b[0;36m_poll\u001b[1;34m(self, timeout)\u001b[0m\n\u001b[0;32m    632\u001b[0m \u001b[1;33m\u001b[0m\u001b[0m\n\u001b[0;32m    633\u001b[0m         \u001b[0mstart_select\u001b[0m \u001b[1;33m=\u001b[0m \u001b[0mtime\u001b[0m\u001b[1;33m.\u001b[0m\u001b[0mtime\u001b[0m\u001b[1;33m(\u001b[0m\u001b[1;33m)\u001b[0m\u001b[1;33m\u001b[0m\u001b[1;33m\u001b[0m\u001b[0m\n\u001b[1;32m--> 634\u001b[1;33m         \u001b[0mready\u001b[0m \u001b[1;33m=\u001b[0m \u001b[0mself\u001b[0m\u001b[1;33m.\u001b[0m\u001b[0m_selector\u001b[0m\u001b[1;33m.\u001b[0m\u001b[0mselect\u001b[0m\u001b[1;33m(\u001b[0m\u001b[0mtimeout\u001b[0m\u001b[1;33m)\u001b[0m\u001b[1;33m\u001b[0m\u001b[1;33m\u001b[0m\u001b[0m\n\u001b[0m\u001b[0;32m    635\u001b[0m         \u001b[0mend_select\u001b[0m \u001b[1;33m=\u001b[0m \u001b[0mtime\u001b[0m\u001b[1;33m.\u001b[0m\u001b[0mtime\u001b[0m\u001b[1;33m(\u001b[0m\u001b[1;33m)\u001b[0m\u001b[1;33m\u001b[0m\u001b[1;33m\u001b[0m\u001b[0m\n\u001b[0;32m    636\u001b[0m         \u001b[1;32mif\u001b[0m \u001b[0mself\u001b[0m\u001b[1;33m.\u001b[0m\u001b[0m_sensors\u001b[0m\u001b[1;33m:\u001b[0m\u001b[1;33m\u001b[0m\u001b[1;33m\u001b[0m\u001b[0m\n",
      "\u001b[1;32m~\\AppData\\Local\\Programs\\Python\\Python39\\lib\\selectors.py\u001b[0m in \u001b[0;36mselect\u001b[1;34m(self, timeout)\u001b[0m\n\u001b[0;32m    322\u001b[0m         \u001b[0mready\u001b[0m \u001b[1;33m=\u001b[0m \u001b[1;33m[\u001b[0m\u001b[1;33m]\u001b[0m\u001b[1;33m\u001b[0m\u001b[1;33m\u001b[0m\u001b[0m\n\u001b[0;32m    323\u001b[0m         \u001b[1;32mtry\u001b[0m\u001b[1;33m:\u001b[0m\u001b[1;33m\u001b[0m\u001b[1;33m\u001b[0m\u001b[0m\n\u001b[1;32m--> 324\u001b[1;33m             \u001b[0mr\u001b[0m\u001b[1;33m,\u001b[0m \u001b[0mw\u001b[0m\u001b[1;33m,\u001b[0m \u001b[0m_\u001b[0m \u001b[1;33m=\u001b[0m \u001b[0mself\u001b[0m\u001b[1;33m.\u001b[0m\u001b[0m_select\u001b[0m\u001b[1;33m(\u001b[0m\u001b[0mself\u001b[0m\u001b[1;33m.\u001b[0m\u001b[0m_readers\u001b[0m\u001b[1;33m,\u001b[0m \u001b[0mself\u001b[0m\u001b[1;33m.\u001b[0m\u001b[0m_writers\u001b[0m\u001b[1;33m,\u001b[0m \u001b[1;33m[\u001b[0m\u001b[1;33m]\u001b[0m\u001b[1;33m,\u001b[0m \u001b[0mtimeout\u001b[0m\u001b[1;33m)\u001b[0m\u001b[1;33m\u001b[0m\u001b[1;33m\u001b[0m\u001b[0m\n\u001b[0m\u001b[0;32m    325\u001b[0m         \u001b[1;32mexcept\u001b[0m \u001b[0mInterruptedError\u001b[0m\u001b[1;33m:\u001b[0m\u001b[1;33m\u001b[0m\u001b[1;33m\u001b[0m\u001b[0m\n\u001b[0;32m    326\u001b[0m             \u001b[1;32mreturn\u001b[0m \u001b[0mready\u001b[0m\u001b[1;33m\u001b[0m\u001b[1;33m\u001b[0m\u001b[0m\n",
      "\u001b[1;32m~\\AppData\\Local\\Programs\\Python\\Python39\\lib\\selectors.py\u001b[0m in \u001b[0;36m_select\u001b[1;34m(self, r, w, _, timeout)\u001b[0m\n\u001b[0;32m    313\u001b[0m     \u001b[1;32mif\u001b[0m \u001b[0msys\u001b[0m\u001b[1;33m.\u001b[0m\u001b[0mplatform\u001b[0m \u001b[1;33m==\u001b[0m \u001b[1;34m'win32'\u001b[0m\u001b[1;33m:\u001b[0m\u001b[1;33m\u001b[0m\u001b[1;33m\u001b[0m\u001b[0m\n\u001b[0;32m    314\u001b[0m         \u001b[1;32mdef\u001b[0m \u001b[0m_select\u001b[0m\u001b[1;33m(\u001b[0m\u001b[0mself\u001b[0m\u001b[1;33m,\u001b[0m \u001b[0mr\u001b[0m\u001b[1;33m,\u001b[0m \u001b[0mw\u001b[0m\u001b[1;33m,\u001b[0m \u001b[0m_\u001b[0m\u001b[1;33m,\u001b[0m \u001b[0mtimeout\u001b[0m\u001b[1;33m=\u001b[0m\u001b[1;32mNone\u001b[0m\u001b[1;33m)\u001b[0m\u001b[1;33m:\u001b[0m\u001b[1;33m\u001b[0m\u001b[1;33m\u001b[0m\u001b[0m\n\u001b[1;32m--> 315\u001b[1;33m             \u001b[0mr\u001b[0m\u001b[1;33m,\u001b[0m \u001b[0mw\u001b[0m\u001b[1;33m,\u001b[0m \u001b[0mx\u001b[0m \u001b[1;33m=\u001b[0m \u001b[0mselect\u001b[0m\u001b[1;33m.\u001b[0m\u001b[0mselect\u001b[0m\u001b[1;33m(\u001b[0m\u001b[0mr\u001b[0m\u001b[1;33m,\u001b[0m \u001b[0mw\u001b[0m\u001b[1;33m,\u001b[0m \u001b[0mw\u001b[0m\u001b[1;33m,\u001b[0m \u001b[0mtimeout\u001b[0m\u001b[1;33m)\u001b[0m\u001b[1;33m\u001b[0m\u001b[1;33m\u001b[0m\u001b[0m\n\u001b[0m\u001b[0;32m    316\u001b[0m             \u001b[1;32mreturn\u001b[0m \u001b[0mr\u001b[0m\u001b[1;33m,\u001b[0m \u001b[0mw\u001b[0m \u001b[1;33m+\u001b[0m \u001b[0mx\u001b[0m\u001b[1;33m,\u001b[0m \u001b[1;33m[\u001b[0m\u001b[1;33m]\u001b[0m\u001b[1;33m\u001b[0m\u001b[1;33m\u001b[0m\u001b[0m\n\u001b[0;32m    317\u001b[0m     \u001b[1;32melse\u001b[0m\u001b[1;33m:\u001b[0m\u001b[1;33m\u001b[0m\u001b[1;33m\u001b[0m\u001b[0m\n",
      "\u001b[1;31mKeyboardInterrupt\u001b[0m: "
     ]
    }
   ],
   "source": [
    "for message in consumer:\n",
    "    # message value and key are raw bytes -- decode if necessary!\n",
    "    # e.g., for unicode: `message.value.decode('utf-8')`\n",
    "    print(message.value)"
   ]
  },
  {
   "cell_type": "code",
   "execution_count": null,
   "metadata": {},
   "outputs": [],
   "source": []
  }
 ],
 "metadata": {
  "kernelspec": {
   "display_name": "Python 3 (ipykernel)",
   "language": "python",
   "name": "python3"
  },
  "language_info": {
   "codemirror_mode": {
    "name": "ipython",
    "version": 3
   },
   "file_extension": ".py",
   "mimetype": "text/x-python",
   "name": "python",
   "nbconvert_exporter": "python",
   "pygments_lexer": "ipython3",
   "version": "3.9.7"
  }
 },
 "nbformat": 4,
 "nbformat_minor": 4
}
