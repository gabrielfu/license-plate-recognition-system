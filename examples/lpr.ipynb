{
 "cells": [
  {
   "cell_type": "code",
   "execution_count": 1,
   "metadata": {},
   "outputs": [],
   "source": [
    "import torch\n",
    "import cv2\n",
    "import os\n",
    "import sys\n",
    "import numpy as np\n",
    "import matplotlib.pyplot as plt\n",
    "import yaml\n",
    "import pprint"
   ]
  },
  {
   "cell_type": "code",
   "execution_count": 2,
   "metadata": {},
   "outputs": [],
   "source": [
    "os.chdir(os.path.split(os.getcwd())[0])"
   ]
  },
  {
   "cell_type": "code",
   "execution_count": 4,
   "metadata": {},
   "outputs": [],
   "source": [
    "cfg = yaml.load(open('config/models.yaml', 'r'), Loader=yaml.FullLoader)"
   ]
  },
  {
   "cell_type": "markdown",
   "metadata": {},
   "source": [
    "#### load images"
   ]
  },
  {
   "cell_type": "code",
   "execution_count": 5,
   "metadata": {},
   "outputs": [],
   "source": [
    "imgs = [cv2.imread('D:/GitHub/LPR_software/models/test_im/FP631_34938.jpg'), \n",
    "        cv2.imread('D:/GitHub/LPR_software/models/test_im/LA7937_1558.jpg'), \n",
    "        cv2.imread('D:/GitHub/LPR_software/models/test_im/edit.jpg')]"
   ]
  },
  {
   "cell_type": "markdown",
   "metadata": {},
   "source": [
    "### LPR class"
   ]
  },
  {
   "cell_type": "code",
   "execution_count": 6,
   "metadata": {},
   "outputs": [],
   "source": [
    "from models.lpr import LPR"
   ]
  },
  {
   "cell_type": "code",
   "execution_count": 7,
   "metadata": {},
   "outputs": [],
   "source": [
    "lpr = LPR(cfg)"
   ]
  },
  {
   "cell_type": "code",
   "execution_count": 8,
   "metadata": {},
   "outputs": [
    {
     "data": {
      "text/plain": [
       "[[],\n",
       " [{'plate': {'coords': [1245, 427, 1396, 468], 'confidence': 0.52103096},\n",
       "   'plate_num': {'numbers': 'LA7937', 'confidence': 0.9992875456809998},\n",
       "   'status': 'success'}],\n",
       " [{'plate': {'coords': [163, 346, 426, 432], 'confidence': 0.99753785},\n",
       "   'plate_num': {'numbers': 'TVB', 'confidence': 0.9997612833976746},\n",
       "   'status': 'success'},\n",
       "  {'plate': {'coords': [1475, 327, 1601, 403], 'confidence': 0.8515071},\n",
       "   'plate_num': {'numbers': '', 'confidence': 0.0},\n",
       "   'status': 'no characters segmented'},\n",
       "  {'plate': {'coords': [812, 329, 963, 419], 'confidence': 0.5330508},\n",
       "   'plate_num': {'numbers': 'TAX1', 'confidence': 0.9999973773956299},\n",
       "   'status': 'success'}]]"
      ]
     },
     "execution_count": 8,
     "metadata": {},
     "output_type": "execute_result"
    }
   ],
   "source": [
    "lpr.predict(imgs)"
   ]
  },
  {
   "cell_type": "code",
   "execution_count": null,
   "metadata": {},
   "outputs": [],
   "source": []
  },
  {
   "cell_type": "markdown",
   "metadata": {},
   "source": [
    "#### Dev"
   ]
  },
  {
   "cell_type": "code",
   "execution_count": 19,
   "metadata": {},
   "outputs": [],
   "source": [
    "import cv2\n",
    "import uuid\n",
    "\n",
    "from models.plate_detector import PlateDetector\n",
    "from models.segmentator import Segmentator\n",
    "from models.char_recognizer import CharRecognizer"
   ]
  },
  {
   "cell_type": "code",
   "execution_count": 21,
   "metadata": {},
   "outputs": [],
   "source": [
    "class Self():\n",
    "    def __init__(self):\n",
    "        pass\n",
    "self = Self()"
   ]
  },
  {
   "cell_type": "code",
   "execution_count": 22,
   "metadata": {},
   "outputs": [],
   "source": [
    "self.detector = PlateDetector(cfg['plate_detector'])\n",
    "self.segmentator = Segmentator(cfg['segmentator'])\n",
    "self.recognizer = CharRecognizer(cfg['char_recognizer'])\n",
    "\n",
    "self.pad_x = cfg['lpr']['pad_x']\n",
    "self.pad_y = cfg['lpr']['pad_y']"
   ]
  }
 ],
 "metadata": {
  "kernelspec": {
   "display_name": "Python 3.6.10 64-bit ('pytorchenv': conda)",
   "language": "python",
   "name": "python361064bitpytorchenvconda322284ca75aa4e09af4af2dd3388617c"
  },
  "language_info": {
   "codemirror_mode": {
    "name": "ipython",
    "version": 3
   },
   "file_extension": ".py",
   "mimetype": "text/x-python",
   "name": "python",
   "nbconvert_exporter": "python",
   "pygments_lexer": "ipython3",
   "version": "3.6.10"
  }
 },
 "nbformat": 4,
 "nbformat_minor": 4
}
